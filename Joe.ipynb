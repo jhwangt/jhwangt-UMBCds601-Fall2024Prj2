{
 "cells": [
  {
   "cell_type": "markdown",
   "metadata": {},
   "source": [
    "## Project 2 Proposal\n",
    "I want to use the daily data for the US Stock Markets that are found at this site: \n",
    "\n",
    "https://stooq.com/db/h/  \n",
    "\n",
    "The site provides a single text file for all active stocks and exchange traded funds (ETFs) currently traded on the NYSE and NASDAQ exchanges.  The question that I want to answer is:\n",
    "Was Steve Bigalow right about his “Best Friend Signal?”\n",
    "For background, Steve Bigalow was a candle stick trader who talked about patterns that indicated swings in price were coming.  What he called the “Best Friend Signal” was a doji (a day of trading where the open and close price are equal or close to equal) followed by a “gap up” (where the open of the day higher than either the open or close of the previous day) and a close above the 8 day exponential moving average (EMA).  He stated that when these 3 things occurred, the stock price was “very likely” to go up.  I would like to test this.  \n",
    "I plan on limiting the analysis in the following ways:\n",
    "1.\tI will only be looking at stocks in the S&P 500\n",
    "2.\tI will only be looking at the last 2 years of data\n",
    "3.\tI will only be looking at signals that occur over the time of 2 days.  In other words, I will look at events where the price is below the 8 day EMA, a doji occurs, and the next day the stock gaps up and closes above the 8 day EMA.\n",
    "\n",
    "I will measure the high of the stock over the following 10 days of trading and analyze the highest price during that time as a percentage of the price at the end of the signal.  I will produce a table of signal events and the highest price in the next 10 days.  From that table I will determine if Steve Bigalow was right or if there is anything better than chance (a coin flip in this case) to the signal.\n",
    "\n",
    "## Instructions for the Reviewer:\n",
    "You will need to download the data for this project.  You can find it here:\n",
    "\n",
    "https://drive.google.com/file/d/15N_zFtOXr7lx_MGlyV6ywADFHLmXe9Jx/view?usp=sharing\n",
    "\n",
    "This will unzip to a directory called Project 2 that will contain a .dat file containing the ticker symbols for the S&P 500 and the stock downloads with data up to November 19th of this year.  You are welcome to download all the data and run this with more recent data.  Click the Stooq link above and click the link for the US Daily ASCII stocks.  When you unzip that file you will have to copy all the Stock files into this data directory.  Don't worry about the ETF files.\n",
    "\n",
    "Text me at 443-745-7469 or email me at wj53138@umbc.edu if you have any questions.  It is probably best to text me even if you do send me an email.  Just let me know that I need the check my email."
   ]
  },
  {
   "cell_type": "code",
   "execution_count": null,
   "metadata": {},
   "outputs": [],
   "source": [
    "import pandas as pd\n",
    "import os\n",
    "import matplotlib.pyplot as plt"
   ]
  },
  {
   "cell_type": "markdown",
   "metadata": {},
   "source": [
    "Each of the following python blocks has a print statement at the end.  You can uncomment it to see what is going on."
   ]
  },
  {
   "cell_type": "code",
   "execution_count": 2,
   "metadata": {},
   "outputs": [],
   "source": [
    "#First, let's read in the list of S&P 500 Symbols\n",
    "sp500symbols = []\n",
    "with open(r'.\\sp500symbols.dat', 'r') as fh:\n",
    "    for line in fh:\n",
    "        sp500symbols.append(format(line.strip()))\n",
    "#print(sp500symbols)"
   ]
  },
  {
   "cell_type": "markdown",
   "metadata": {},
   "source": [
    "In the next block we are going to use an Exponential Moving Average (EMA).  This is a type of average that is used in stock analysis.  Here is some background information on the EMA.\n",
    "\n",
    "[Exponential Moving Average](https://www.fidelity.com/learning-center/trading-investing/technical-analysis/technical-indicator-guide/ema#:~:text=Exponential%20Moving%20Average%20(EMA)%20is,data%20that%20is%20more%20current.)\n",
    "\n",
    "We will be using the 8 Day EMA.\n"
   ]
  },
  {
   "cell_type": "code",
   "execution_count": 3,
   "metadata": {},
   "outputs": [],
   "source": [
    "#Now we will build a dictionary of dataframes that contain the data that we will analyze.\n",
    "stockDataFrames = {}\n",
    "#TODO make this for all files\n",
    "for symbol in sp500symbols:\n",
    "    datFileName =  '.\\\\data\\\\' + f'{symbol}.us.txt'\n",
    "    if not os.path.exists(datFileName):\n",
    "        print(f'File {datFileName} does not exist, skipping')\n",
    "        continue\n",
    "    df = pd.read_csv(datFileName)\n",
    "    #first let's rename the columns so they are easier to use.\n",
    "    for key in df.keys():    \n",
    "        df.rename(columns={key: key[1:-1]}, inplace=True)\n",
    "    #next, let's get those dates properly formatted.\n",
    "    df['DATE'] = pd.to_datetime(df['DATE'], format = '%Y%m%d')\n",
    "    #Then we calculate the EMA 8 for the symbol.\n",
    "    df['EMA8'] = round(df['CLOSE'].ewm(span=8, adjust=False).mean(), 2)\n",
    "    ## IF WE NEED TO ADD STOCHASTIC WE WILL DO IT HERE!\n",
    "    #We are only looking at data for the last 2 years (or so), so this data frame does not need to carry all the data since 1970.  \n",
    "    # Thus, We will only keep the last 510 trading days. (there ar 252 trading days in a year so this will be a little more than 2 years of data)  \n",
    "    #if len(df.index) < 510:\n",
    "    #    print(f'Skipping {symbol} because it does not have enough rows (it has {len(df.index)})')\n",
    "    #    continue\n",
    "    df = df.iloc[-510:]\n",
    "    df.reset_index(drop=True, inplace=True)\n",
    "    stockDataFrames[symbol] = df\n",
    "#stockDataFrames['MMM'].tail(10)"
   ]
  },
  {
   "cell_type": "markdown",
   "metadata": {},
   "source": [
    "Now I have a list of data frames containing the last 2 years of daily information from each stock in the S&P 500.  Now it is time to go through each symbol and see if Steve Bigalow's prediction was correct for these symbols.  \n",
    "First, I am going to define what makes a doji (a day when the stock opens and closes at about the same price).  \n",
    "Second, I am going to define a gap-up event as an when the stock opens the next day higher than the open and close of the previous day by a defined percentage.\n",
    "\n",
    "Then I am going to make a data frame for the events I want to test.  I will add an event to the data frame if there is a doji fully below the EMA8 followed by a gap-up that closes above the EMA8. "
   ]
  },
  {
   "cell_type": "code",
   "execution_count": 4,
   "metadata": {},
   "outputs": [],
   "source": [
    "dojiPercentage = .003 #A candle stick is a doji if the open and close are withing this percentage of each other.  .003 seems to be a good cutoff.\n",
    "gapPercentage = .005 # A gap-up will be measured by the stock opening at 1.(x) of the higher of the previous days open or close\n",
    "#Now I will define a list that will hold our testable events (a Doji followed by a gap-up that closes above the EMA8).\n",
    "#We will turn this into a data frame once it is built\n",
    "testEvents = pd.DataFrame(columns=['TICKER', 'DATE'])\n",
    "#testEventsList.append(['TICKER', 'DATE'])\n",
    "#Now let's loop over the data frames in the list\n",
    "for df in stockDataFrames.values():\n",
    "    #then loop over each record looking for dojis\n",
    "    for row in df.itertuples():\n",
    "        #first, let's see if the whole candle is below the EMA8\n",
    "        if row.OPEN < row.EMA8 and row.CLOSE < row.EMA8:\n",
    "            #now let's see if the candle is a doji\n",
    "            dojiHigh =  row.OPEN *   (1 + dojiPercentage)\n",
    "            dojiLow =   row.OPEN *   (1 - dojiPercentage)\n",
    "            if dojiLow <= row.CLOSE <= dojiHigh:\n",
    "                #Now we need to check to see if we are at the last row of data in this data frame. \n",
    "                # If so, we should not try to look at data that does not exist.\n",
    "                if row.Index >= (len(df.index) -1):\n",
    "                    continue\n",
    "                #Now let's find out if the next day is a gap-up\n",
    "                #First we will set the floor of the gap-up.  The gap floor will be measured from the higher of the open and close of the doji\n",
    "                gapFloor = row.CLOSE * (1 + gapPercentage)\n",
    "                if row.OPEN > row.CLOSE:\n",
    "                    gapFloor = row.OPEN * (1 + gapPercentage) \n",
    "                #Lets get the next day into a row\n",
    "                nextDay = df.iloc[row.Index+1]\n",
    "                #If the stock gaps up (open and close are above the gap floor) AND the close is above the EMA8\n",
    "                if nextDay['OPEN'] > gapFloor and nextDay['CLOSE'] > gapFloor and nextDay['CLOSE'] > nextDay['EMA8']:\n",
    "                    #Then we check to see if there are 11 days of data we can test after the event.\n",
    "                    if row.Index <= (len(df.index) - 11):\n",
    "                        testEvents.loc[len(testEvents)] = [row.TICKER[:-3], row.DATE]\n",
    "                    #This else statement provides feedback on what was not saved to the test cases. You can uncomment it to get some insight.\n",
    "                    #else:\n",
    "                    #    print(f'{row.TICKER[:-3]} {row.DATE} does not have enough data to analyze')\n",
    "                    #Below is some debug code I wrote to make sure that I was doing the cut-off correctly\n",
    "                    #if row.Index == 498:\n",
    "                    #    print('DINGDINGDING')\n",
    "                    #    print(f'{row.TICKER[:-3]} {row.DATE}')\n",
    "#testEvents.tail(25)"
   ]
  },
  {
   "cell_type": "markdown",
   "metadata": {},
   "source": [
    "Now we have our data frame of testable events.  Each row of this data frame is just a ticker symbol and a date.  Since our full data set is stored in a dictionary (and the keys are ticker symbols) we can now access each data frame in the dictionary by the ticker symbol key in the Test Event data frame.  \n",
    "\n",
    "The questions that I am trying to answer are:\n",
    "1. After an event, is there an opportunity to sell the stock at a gain in the next 10 days?  To answer this question we will look at just the highs of the next 10 days.\n",
    "2. What is the percentage gain per event where the stock is higher within 10 days of the event?\n",
    "3. How many days after the event (within 10 days) did the high occur? \n",
    "4. What percentage of events result in an opportunity to sell at a higher price?\n",
    "5. For events where there is not an opportunity to sell at a higher price in the next 10 days, what is the worst case for selling during said time frame?  For this we will be looking at just the lows for the next 10 days.\n",
    "\n",
    "Thus this project will be looking at 12 days of data per event.  The doji day, the gap up day, and the subsequent 10 days.  We will assume that we can buy the stock at the close price of the gap up day."
   ]
  },
  {
   "cell_type": "code",
   "execution_count": 5,
   "metadata": {},
   "outputs": [],
   "source": [
    "# First, lets build some dataframes to hold wins and losses\n",
    "wins =   pd.DataFrame(columns=['TICKER', 'DATE', 'IN_PRICE', '10DAY_HIGH', 'PERCENT_GAIN', 'DAY_OF_HIGH'])\n",
    "losses = pd.DataFrame(columns=['TICKER', 'DATE', 'IN_PRICE', '10DAY_LOW',  'PERCENT_LOSS'])\n",
    "# Just for fun, let's see what the state is at the end (CLOSE) of the 10 day period\n",
    "allEvents = pd.DataFrame(columns=['TICKER', 'DATE', 'IN_PRICE', 'OUT_PRICE',  'PERCENT_CHANGE'])\n",
    "#Now, let's loop over the test results:\n",
    "for testEvent in testEvents.itertuples():\n",
    "    #This next line of code gets the index of the start of the 12 day span from the dataframe of the ticker in the dictionary of data frames.\n",
    "    eventStartIndex = stockDataFrames[testEvent.TICKER].index[stockDataFrames[testEvent.TICKER]['DATE'] == testEvent.DATE][0]\n",
    "    #Now I will create a new data frame of the 12 rows I want to test because I don't want to keep referencing the data as I did in that last line.\n",
    "    df = stockDataFrames[testEvent.TICKER].iloc[eventStartIndex:(eventStartIndex + 12)]\n",
    "    #if 10 days since the event have not elapsed, we can't have good analysis so skip this event.\n",
    "    if len(df) < 12:\n",
    "        continue\n",
    "    #Now I will reindex the dataframe in place so I can easily access the days by index\n",
    "    df.reset_index(drop=True, inplace=True)\n",
    "    #For the purpose of this project, We will assume that we can purchase the stock at the close price of the second day (index 1).  \n",
    "    #We will then measure the best case scenario of the gain over the next 10 days.  If there is no gain over the next 10 days, we will measure the worse case \n",
    "    #scenario over the next 10 days.  We will also calculate a percentage gain/loss of each event.  If the event is a gain, we will add the event to a the wins\n",
    "    #dataframe.  If it is a loss, we will add it to the losses dataframe.\n",
    "    purchasePrice = df['CLOSE'][1]\n",
    "    tenDayHigh = df['HIGH'].iloc[2:].max()\n",
    "    #If we have a \"winner\"\n",
    "    if tenDayHigh > purchasePrice:\n",
    "        #Calculate the highest percentage Gained\n",
    "        percentGain = (tenDayHigh/purchasePrice) - 1\n",
    "        #How many days after purchase does the high occur? (we purchase at CLOSE at index 1 so take away 1)\n",
    "        highPriceIndex = df.iloc[2:].index[df['HIGH'].iloc[2:] == tenDayHigh][0] - 1\n",
    "        #add it to the winners dataframe\n",
    "        wins.loc[len(wins)] = [testEvent.TICKER, testEvent.DATE, purchasePrice, tenDayHigh, percentGain, highPriceIndex]\n",
    "    #if we have a loser (we will put ties in the loss category)\n",
    "    if tenDayHigh <= purchasePrice:\n",
    "        #find the worst case\n",
    "        tenDayLow  = df['LOW'].iloc[2:].min()\n",
    "        #calculate the loss percentage\n",
    "        percentLoss = (purchasePrice/tenDayLow) - 1\n",
    "        #add it to the losses dataframe\n",
    "        losses.loc[len(losses)] = [testEvent.TICKER, testEvent.DATE, purchasePrice, tenDayLow, percentLoss]\n",
    "    #add the event to the all events dataframe\n",
    "    allEvents.loc[len(allEvents)] = [testEvent.TICKER, testEvent.DATE, purchasePrice, df['CLOSE'][11], (df['CLOSE'][11]/purchasePrice) - 1 ]\n",
    "#print(wins.tail(15))\n",
    "#print(losses.tail(15))\n",
    "#print(allEvents.tail(15))"
   ]
  },
  {
   "cell_type": "markdown",
   "metadata": {},
   "source": [
    "Now it is time to do some analysis on the data we have collected.  Let's look at what we have built.  We have 3 data frames:\n",
    "1. Wins has best case scenario of an improvement of price that occurs after a signal event.\n",
    "2. Losses which has the worse case scenario over the next 10 days after a signal\n",
    "3. All the signals followed by the result of holding the stock for 10 days.  \n",
    "\n",
    "Now we can do some analysis on the data"
   ]
  },
  {
   "cell_type": "code",
   "execution_count": 6,
   "metadata": {},
   "outputs": [
    {
     "name": "stdout",
     "output_type": "stream",
     "text": [
      "There were 1503 signals with 10 days of data that we could analyze.  Of those 1503, 1447 had the oppotunity for gains and 56 would have resulted in some loss.\n",
      "1447 + 56 = 1503 which should be the number of events in \"allEvents\"(1503).\n",
      "\n",
      "96.27% Were wins with an average maximum possible gain of 4.9%.\n",
      "3.73% Were wins with an average maximum possible loss of 10.68%.\n",
      "\n",
      "The average result of buying at the close of the gap up and holding for 10 days is 0.82%.\n"
     ]
    }
   ],
   "source": [
    "allCount = len(allEvents)\n",
    "winCount = len(wins)\n",
    "lossCount = len(losses)\n",
    "\n",
    "print(f'There were {allCount} signals with 10 days of data that we could analyze.  Of those {allCount}, {winCount} had the oppotunity for gains and {lossCount} would have resulted in some loss.')\n",
    "print(f'{winCount} + {lossCount} = {winCount + lossCount} which should be the number of events in \"allEvents\"({allCount}).\\n')\n",
    "print(f'{round((winCount/allCount)*(100),2)}% Were wins with an average maximum possible gain of {round(wins['PERCENT_GAIN'].mean() * 100, 2)}%.')\n",
    "print(f'{round((lossCount/allCount)*(100),2)}% Were wins with an average maximum possible loss of {round(losses['PERCENT_LOSS'].mean() * 100, 2)}%.\\n')\n",
    "print(f'The average result of buying at the close of the gap up and holding for 10 days is {round(allEvents['PERCENT_CHANGE'].mean() * 100, 2)}%.')\n",
    "\n",
    "#wins =   pd.DataFrame(columns=['TICKER', 'DATE', 'IN_PRICE', '10DAY_HIGH', 'PERCENT_GAIN', 'DAY_OF_HIGH'])\n",
    "#losses = pd.DataFrame(columns=['TICKER', 'DATE', 'IN_PRICE', '10DAY_LOW',  'PERCENT_LOSS'])\n",
    "#allEvents = pd.DataFrame(columns=['TICKER', 'DATE', 'IN_PRICE', 'OUT_PRICE',  'PERCENT_CHANGE'])"
   ]
  },
  {
   "cell_type": "markdown",
   "metadata": {},
   "source": [
    "When, in the 10 days after a signal does the high occur?"
   ]
  },
  {
   "cell_type": "code",
   "execution_count": 13,
   "metadata": {},
   "outputs": [
    {
     "data": {
      "image/png": "[encoded data removed]",
      "text/plain": [
       "<Figure size 640x480 with 1 Axes>"
      ]
     },
     "metadata": {},
     "output_type": "display_data"
    }
   ],
   "source": [
    "highDayCounts = wins['DAY_OF_HIGH'].value_counts().sort_index()\n",
    "highDayCounts.plot(kind='bar')\n",
    "plt.xlabel(\"Days after signal that high occurs\")\n",
    "plt.ylabel(\"Count\")\n",
    "plt.title(\"When Does the High Occur?\")\n",
    "plt.show()"
   ]
  },
  {
   "cell_type": "markdown",
   "metadata": {},
   "source": [
    "Okay, that is interesting.  What is the average high (in percentage) for each day assuming the high occurs on that day?"
   ]
  },
  {
   "cell_type": "code",
   "execution_count": 22,
   "metadata": {},
   "outputs": [
    {
     "data": {
      "image/png": "[encoded data removed]",
      "text/plain": [
       "<Figure size 640x480 with 1 Axes>"
      ]
     },
     "metadata": {},
     "output_type": "display_data"
    }
   ],
   "source": [
    "avgPercentGainByDay = wins.groupby('DAY_OF_HIGH')['PERCENT_GAIN'].mean() * 100\n",
    "avgPercentGainByDay.plot(kind='bar')\n",
    "plt.xlabel(\"Days after signal that high occurs\")\n",
    "plt.ylabel(\"Average Gain Percentage\")\n",
    "plt.title(\"What is the High When it Occurs on a Given Day?\")\n",
    "plt.show()"
   ]
  },
  {
   "cell_type": "markdown",
   "metadata": {},
   "source": [
    "## Conculsion\n",
    "I thought that this analysis would show that Steve Bigalow was wrong about his \"Best Friend Signal\"  I can not make that conclusion from this analysis and there seems to be good date pointing to him having been correct.  I would like to develop a strategy based on the findings here and run simulations on the existing data to see if the strategy would be successful."
   ]
  },
  {
   "cell_type": "code",
   "execution_count": null,
   "metadata": {},
   "outputs": [],
   "source": []
  },
  {
   "cell_type": "code",
   "execution_count": null,
   "metadata": {},
   "outputs": [],
   "source": []
  }
 ],
 "metadata": {
  "kernelspec": {
   "display_name": "Python 3",
   "language": "python",
   "name": "python3"
  },
  "language_info": {
   "codemirror_mode": {
    "name": "ipython",
    "version": 3
   },
   "file_extension": ".py",
   "mimetype": "text/x-python",
   "name": "python",
   "nbconvert_exporter": "python",
   "pygments_lexer": "ipython3",
   "version": "3.13.0"
  }
 },
 "nbformat": 4,
 "nbformat_minor": 2
}
